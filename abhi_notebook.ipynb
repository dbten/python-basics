{
 "cells": [
  {
   "cell_type": "markdown",
   "id": "91cf60ae",
   "metadata": {},
   "source": [
    "\n",
    "press escape to become blue\n",
    "when in blue double d ;) to delete\n",
    "when in blue press \"a\" to add tab for above\n",
    "when in blue press 'b\" to add tab below\n",
    "shift+enter is to run the code\n",
    "when in blue press m for marking"
   ]
  },
  {
   "cell_type": "code",
   "execution_count": 7,
   "id": "ab279def",
   "metadata": {},
   "outputs": [
    {
     "name": "stdout",
     "output_type": "stream",
     "text": [
      "c\n",
      "adhvay\n"
     ]
    }
   ],
   "source": [
    "#words are strings,nnumbers are called integers.[] are called lists,() are called tuples,{} are called dictionaries\n",
    "\n",
    "#integers\n",
    "#integers are mutable,eg:- a=1\n",
    "\n",
    "#strings\n",
    "#strings are immutablee,eg:- a=\"god\"\n",
    "\n",
    "#list\n",
    "#lists can be changed or mutable, eg:- a=[12,3,2,3,4,2,4],b=[\"adhvay\",\"abhishek\",\"dawg\"]\n",
    "\n",
    "#tuple\n",
    "#tuple cannot be changed or immutable, eg:- a=(1,2,3,2,3)\n",
    "\n",
    "#dictionary\n",
    "#dictionary are mutable and stored in key value pairs, eg:- marks={\"adhvay\":10,\"abhishek\":7},b={5:10,20:2} ,here adhvay and abhishek are called keys,10 and 7are called values  \n",
    "\n",
    "a=1\n",
    "b=2\n",
    "a+b\n",
    "c=\"adhvay\"\n",
    "\n",
    "print(\"c\")\n",
    "print(c)\n",
    "\n",
    "d=1.2\n",
    "\n"
   ]
  },
  {
   "cell_type": "code",
   "execution_count": 2,
   "id": "02277c90",
   "metadata": {},
   "outputs": [
    {
     "name": "stdout",
     "output_type": "stream",
     "text": [
      "3\n"
     ]
    }
   ],
   "source": [
    "a=1\n",
    "b=2\n",
    "print(a+b)"
   ]
  },
  {
   "cell_type": "code",
   "execution_count": 4,
   "id": "97cde084",
   "metadata": {},
   "outputs": [
    {
     "name": "stdout",
     "output_type": "stream",
     "text": [
      "sum is 3\n",
      "sum of 1 and 2 is 3\n"
     ]
    }
   ],
   "source": [
    "a=1\n",
    "b=2\n",
    "c=a+b\n",
    "print(\"sum is {}\".format(c))\n",
    "print(\"sum of {} and {} is {}\".format(a,b,c))"
   ]
  },
  {
   "cell_type": "code",
   "execution_count": 6,
   "id": "61c7315b",
   "metadata": {},
   "outputs": [
    {
     "name": "stdout",
     "output_type": "stream",
     "text": [
      "sum of 2 and 3 is 5\n",
      "difference of 3 and 2 is 1\n",
      "product of 2 and 3 is 6\n",
      "quotient of 3 and 2 is 1.5\n"
     ]
    }
   ],
   "source": [
    "a=2\n",
    "b=3\n",
    "c=a+b\n",
    "print(\"sum of {} and {} is {}\".format(a,b,c))\n",
    "c=b-a\n",
    "print(\"difference of {} and {} is {}\".format(b,a,c))\n",
    "c=a*b\n",
    "print(\"product of {} and {} is {}\".format(a,b,c))\n",
    "c=b/a\n",
    "print(\"quotient of {} and {} is {}\".format(b,a,c))"
   ]
  },
  {
   "cell_type": "code",
   "execution_count": 7,
   "id": "1cd13c1c",
   "metadata": {},
   "outputs": [
    {
     "name": "stdout",
     "output_type": "stream",
     "text": [
      "sum of 2 and 3 is 5\n",
      "sum of 4 and 3 is 7\n",
      "difference of 3 and 2 is 1\n",
      "difference of 4 and 3 is 1\n",
      "product of 2 and 3 is 6\n",
      "product of 4 and 3 is 12\n",
      "quotient of 3 and 2 is 1.5\n",
      "quotient of 4 and 2 is 2.0\n"
     ]
    }
   ],
   "source": [
    "a=2\n",
    "b=3\n",
    "c=4\n",
    "d=a+b\n",
    "e=c+b\n",
    "print(\"sum of {} and {} is {}\".format(a,b,d))\n",
    "print(\"sum of {} and {} is {}\".format(c,b,e))\n",
    "d=b-a\n",
    "e=c-b\n",
    "print(\"difference of {} and {} is {}\".format(b,a,d))\n",
    "print(\"difference of {} and {} is {}\".format(c,b,e))\n",
    "d=a*b\n",
    "e=c*b\n",
    "print(\"product of {} and {} is {}\".format(a,b,d))\n",
    "print(\"product of {} and {} is {}\".format(c,b,e))\n",
    "d=b/a\n",
    "e=c/a\n",
    "print(\"quotient of {} and {} is {}\".format(b,a,d))\n",
    "print(\"quotient of {} and {} is {}\".format(c,a,e))"
   ]
  },
  {
   "cell_type": "code",
   "execution_count": 27,
   "id": "d2506b07",
   "metadata": {},
   "outputs": [
    {
     "name": "stdout",
     "output_type": "stream",
     "text": [
      "19\n",
      "abhishek sucks dick\n",
      "kcid skcus kehsihba\n",
      "ahse uk ik\n",
      "kcid skcus\n",
      "kcid skcus\n",
      "kcid skcus\n",
      "scskhib\n",
      "scskhib\n"
     ]
    }
   ],
   "source": [
    "#property of strings called slicing,strings start from index position 0 in the normal order and index starts from -1 in the reverse order\n",
    "#a[start:end:step]\n",
    "a=\"abhishek sucks dick\"\n",
    "print(len(a))\n",
    "print(a[:])\n",
    "print(a[::-1]) #reverse order\n",
    "print(a[::2])  #alternate letters\n",
    "print(a[18:8:-1])  #hard\n",
    "print(a[-1:-11:-1])  #medium\n",
    "print(a[-1:8:-1])  #easy\n",
    "print(a[-6::-2])\n",
    "print(a[13::-2])"
   ]
  },
  {
   "cell_type": "code",
   "execution_count": 9,
   "id": "39ee793c",
   "metadata": {},
   "outputs": [
    {
     "name": "stdout",
     "output_type": "stream",
     "text": [
      "c\n",
      "c\n",
      "c\n",
      "c\n"
     ]
    }
   ],
   "source": [
    "count=[10,20,30,40]\n",
    "for d in count:\n",
    "    print(\"c\")"
   ]
  },
  {
   "cell_type": "code",
   "execution_count": null,
   "id": "59d5c257",
   "metadata": {},
   "outputs": [],
   "source": [
    "a=6 #variable is integer\n",
    "b=7.0 #variable is float\n",
    "c= \"abhishek sucks dick\" #variable is string\n",
    "d=(10,20,30,40) #variable is tuple,nonchangeable\n",
    "e=[10,20,30,40] #variable is list,changeable\n"
   ]
  },
  {
   "cell_type": "code",
   "execution_count": 33,
   "id": "7dbaadd9",
   "metadata": {},
   "outputs": [
    {
     "name": "stdout",
     "output_type": "stream",
     "text": [
      "10\n",
      "20\n",
      "30\n",
      "40\n"
     ]
    }
   ],
   "source": [
    "count=(10,20,30,40)\n",
    "for c in count:\n",
    "    print(c)"
   ]
  },
  {
   "cell_type": "code",
   "execution_count": 39,
   "id": "a79ae095",
   "metadata": {},
   "outputs": [
    {
     "name": "stdout",
     "output_type": "stream",
     "text": [
      "[0, 1, 2, 3, 4, 5, 6, 7, 8, 9]\n",
      "[0, 2, 4, 6, 8]\n",
      "[1, 2, 3, 4, 5, 6, 7, 8, 9, 10]\n"
     ]
    }
   ],
   "source": [
    "#print,list,range are all functions\n",
    "a=list(range(0,10))\n",
    "b=list(range(0,10,2))\n",
    "c=list(range(1,11))\n",
    "print(a)\n",
    "print(b)\n",
    "print(c)\n"
   ]
  },
  {
   "cell_type": "code",
   "execution_count": 38,
   "id": "1fef63e9",
   "metadata": {},
   "outputs": [
    {
     "name": "stdout",
     "output_type": "stream",
     "text": [
      "2\n",
      "4\n",
      "6\n",
      "8\n",
      "10\n",
      "12\n",
      "14\n",
      "16\n",
      "18\n",
      "20\n"
     ]
    }
   ],
   "source": [
    "for i in range(1,11):\n",
    "    print(2*i)"
   ]
  },
  {
   "cell_type": "code",
   "execution_count": 40,
   "id": "9b4b0464",
   "metadata": {},
   "outputs": [
    {
     "name": "stdout",
     "output_type": "stream",
     "text": [
      "0\n",
      "2\n",
      "4\n",
      "6\n",
      "8\n",
      "10\n",
      "12\n",
      "14\n",
      "16\n",
      "18\n"
     ]
    }
   ],
   "source": [
    "for i in range(0,10):\n",
    "    print(2*i)"
   ]
  },
  {
   "cell_type": "code",
   "execution_count": 50,
   "id": "ac9e94d4",
   "metadata": {},
   "outputs": [
    {
     "name": "stdout",
     "output_type": "stream",
     "text": [
      "6* 5 = 30\n",
      "6* 6 = 36\n",
      "6* 7 = 42\n",
      "6* 8 = 48\n",
      "6* 9 = 54\n",
      "6* 10 = 60\n",
      "6* 11 = 66\n",
      "6* 12 = 72\n",
      "6* 13 = 78\n",
      "6* 14 = 84\n",
      "6* 15 = 90\n"
     ]
    }
   ],
   "source": [
    "a=\"adhva\"\n",
    "b=3\n",
    "for i in range(5,16):\n",
    "    print(\"6*\",i,\"=\",6*i)\n"
   ]
  },
  {
   "cell_type": "code",
   "execution_count": 57,
   "id": "95773ec3",
   "metadata": {},
   "outputs": [
    {
     "name": "stdout",
     "output_type": "stream",
     "text": [
      "6*4= 24\n",
      "6*5= 30\n",
      "6*6= 36\n",
      "6*7= 42\n",
      "6*8= 48\n",
      "6*9= 54\n",
      "6*10= 60\n",
      "6*11= 66\n",
      "6*12= 72\n",
      "6*13= 78\n",
      "6*14= 84\n",
      "6*15= 90\n",
      "6*16= 96\n"
     ]
    }
   ],
   "source": [
    "for i in range(4,17):\n",
    "    print(\"6*{}=\".format(i),6*i)"
   ]
  },
  {
   "cell_type": "code",
   "execution_count": 60,
   "id": "7434ccb6",
   "metadata": {},
   "outputs": [
    {
     "name": "stdout",
     "output_type": "stream",
     "text": [
      "9*7=63\n",
      "9*8=72\n",
      "9*9=81\n",
      "9*10=90\n",
      "9*11=99\n",
      "9*12=108\n",
      "9*13=117\n",
      "9*14=126\n",
      "9*15=135\n",
      "9*16=144\n",
      "9*17=153\n",
      "9*18=162\n",
      "9*19=171\n",
      "9*20=180\n",
      "9*21=189\n"
     ]
    }
   ],
   "source": [
    "\n",
    "for i in range(7,22):\n",
    "    print(\"{}*{}={}\".format(9,i,9*i))"
   ]
  },
  {
   "cell_type": "code",
   "execution_count": 5,
   "id": "3becdd45",
   "metadata": {},
   "outputs": [
    {
     "name": "stdout",
     "output_type": "stream",
     "text": [
      "hello\n",
      "hello\n",
      "hello\n"
     ]
    }
   ],
   "source": [
    "counter=0\n",
    "while counter<3:\n",
    "    print(\"hello\")\n",
    "    counter=counter+1"
   ]
  },
  {
   "cell_type": "code",
   "execution_count": 6,
   "id": "a0cd5c13",
   "metadata": {},
   "outputs": [
    {
     "name": "stdout",
     "output_type": "stream",
     "text": [
      "fried 45\n"
     ]
    }
   ],
   "source": [
    "x=0\n",
    "s=0\n",
    "while (x<10):\n",
    "    s=s+x\n",
    "    x=x+1\n",
    "else:\n",
    "    print(\"fried\",s)"
   ]
  },
  {
   "cell_type": "code",
   "execution_count": null,
   "id": "92311f94",
   "metadata": {},
   "outputs": [],
   "source": [
    "var=5\n",
    "while var=5: #here it means 3 == 1\n",
    "    num=int(input(\"enter number:\"))\n",
    "    print (\"you've entered:\",num)\n",
    "else:\n",
    "    print(\"goodbye\")"
   ]
  },
  {
   "cell_type": "markdown",
   "id": "44380fa2",
   "metadata": {},
   "source": [
    "3### for i in range (1,4):\n",
    "    for j in range(1.1+i):\n",
    "        print(j,end=' ')\n",
    "    print()"
   ]
  },
  {
   "cell_type": "code",
   "execution_count": 12,
   "id": "7e75b6d4",
   "metadata": {},
   "outputs": [
    {
     "name": "stdout",
     "output_type": "stream",
     "text": [
      "1\n",
      "12\n",
      "123\n",
      "1234\n",
      "12345\n",
      "123456\n",
      "1234567\n",
      "12345678\n",
      "123456789\n",
      "12345678910\n",
      "1234567891011\n",
      "123456789101112\n",
      "12345678910111213\n",
      "1234567891011121314\n"
     ]
    }
   ],
   "source": [
    "for i in range (1,15):\n",
    "    for j in range(1,1+i):\n",
    "        print(j,end='')\n",
    "    print()"
   ]
  },
  {
   "cell_type": "code",
   "execution_count": 11,
   "id": "084525d8",
   "metadata": {},
   "outputs": [
    {
     "name": "stdout",
     "output_type": "stream",
     "text": [
      "1\n",
      "2\n",
      "3\n"
     ]
    }
   ],
   "source": [
    "for i in range(1,4):\n",
    "    print(i)"
   ]
  },
  {
   "cell_type": "code",
   "execution_count": null,
   "id": "a4b8c8bb",
   "metadata": {},
   "outputs": [],
   "source": []
  },
  {
   "cell_type": "code",
   "execution_count": 4,
   "id": "f5c2e0db",
   "metadata": {},
   "outputs": [
    {
     "name": "stdout",
     "output_type": "stream",
     "text": [
      "s\n",
      "t\n",
      "r\n",
      "over\n"
     ]
    }
   ],
   "source": [
    "for val in \"string\":\n",
    "    if val==\"i\":\n",
    "        break\n",
    "    print(val)\n",
    "print(\"over\")"
   ]
  },
  {
   "cell_type": "code",
   "execution_count": 7,
   "id": "0fc310b0",
   "metadata": {},
   "outputs": [
    {
     "name": "stdout",
     "output_type": "stream",
     "text": [
      "end break!! out of loop\n",
      "end break!! out of loop\n",
      "end break!! out of loop\n",
      "end break!! out of loop\n"
     ]
    }
   ],
   "source": [
    "num=0\n",
    "for num in range(10):\n",
    "    num=num+1\n",
    "    if num==5:\n",
    "        break\n",
    "        print('num has value'+str(num))\n",
    "    print('end break!! out of loop')"
   ]
  },
  {
   "cell_type": "code",
   "execution_count": 9,
   "id": "5377b8ad",
   "metadata": {},
   "outputs": [
    {
     "name": "stdout",
     "output_type": "stream",
     "text": [
      "s\n",
      "t\n",
      "r\n"
     ]
    }
   ],
   "source": [
    "for val in \"string\":\n",
    "    if val==\"i\":\n",
    "        break\n",
    "    print(val)\n",
    "else:\n",
    "    print(\"bye\")\n",
    "    \n",
    "    "
   ]
  },
  {
   "cell_type": "code",
   "execution_count": 15,
   "id": "3cb41acc",
   "metadata": {},
   "outputs": [
    {
     "name": "stdout",
     "output_type": "stream",
     "text": [
      "enter number sum,negative number ends:\n",
      "3\n",
      "3\n",
      "3\n",
      "33\n",
      "3\n",
      "3\n",
      "32\n",
      "\n"
     ]
    },
    {
     "ename": "SyntaxError",
     "evalue": "unexpected EOF while parsing (<string>, line 0)",
     "output_type": "error",
     "traceback": [
      "Traceback \u001b[1;36m(most recent call last)\u001b[0m:\n",
      "  File \u001b[0;32m\"C:\\ProgramData\\Anaconda3\\lib\\site-packages\\IPython\\core\\interactiveshell.py\"\u001b[0m, line \u001b[0;32m3437\u001b[0m, in \u001b[0;35mrun_code\u001b[0m\n    exec(code_obj, self.user_global_ns, self.user_ns)\n",
      "\u001b[1;36m  File \u001b[1;32m\"<ipython-input-15-4f9237cd51a6>\"\u001b[1;36m, line \u001b[1;32m5\u001b[1;36m, in \u001b[1;35m<module>\u001b[1;36m\u001b[0m\n\u001b[1;33m    entry=eval(input())\u001b[0m\n",
      "\u001b[1;36m  File \u001b[1;32m\"<string>\"\u001b[1;36m, line \u001b[1;32munknown\u001b[0m\n\u001b[1;33m    \u001b[0m\n\u001b[1;37m    ^\u001b[0m\n\u001b[1;31mSyntaxError\u001b[0m\u001b[1;31m:\u001b[0m unexpected EOF while parsing\n"
     ]
    }
   ],
   "source": [
    "entry=0\n",
    "sum=0\n",
    "print(\"enter number sum,negative number ends:\")\n",
    "while True:\n",
    "    entry=eval(input())\n",
    "    if entry<0:\n",
    "        break\n",
    "    sum+=entry\n",
    "print(\"sum=\",sum)"
   ]
  },
  {
   "cell_type": "code",
   "execution_count": 2,
   "id": "cd55791f",
   "metadata": {},
   "outputs": [
    {
     "name": "stdout",
     "output_type": "stream",
     "text": [
      "7 times 6 is 42\n",
      "7 times 7 is 49\n",
      "7 times 8 is 56\n",
      "7 times 9 is 63\n",
      "7 times 10 is 70\n",
      "7 times 11 is 77\n",
      "7 times 12 is 84\n",
      "7 times 13 is 91\n",
      "7 times 14 is 98\n",
      "7 times 15 is 105\n",
      "7 times 16 is 112\n",
      "7 times 17 is 119\n",
      "7 times 18 is 126\n",
      "7 times 19 is 133\n",
      "7 times 20 is 140\n",
      "7 times 21 is 147\n",
      "7 times 22 is 154\n",
      "7 times 23 is 161\n"
     ]
    }
   ],
   "source": [
    "for i in range(6,24):\n",
    "    print(\"7 times\",i,\"is\",7*i)\n"
   ]
  },
  {
   "cell_type": "code",
   "execution_count": 3,
   "id": "ee9f8059",
   "metadata": {},
   "outputs": [
    {
     "name": "stdout",
     "output_type": "stream",
     "text": [
      "7 times 6 is 42\n",
      "7 times 7 is 49\n",
      "7 times 8 is 56\n",
      "7 times 9 is 63\n",
      "7 times 10 is 70\n",
      "7 times 11 is 77\n",
      "7 times 12 is 84\n",
      "7 times 13 is 91\n",
      "7 times 14 is 98\n",
      "7 times 15 is 105\n",
      "7 times 16 is 112\n",
      "7 times 17 is 119\n",
      "7 times 18 is 126\n",
      "7 times 19 is 133\n",
      "7 times 20 is 140\n",
      "7 times 21 is 147\n",
      "7 times 22 is 154\n",
      "7 times 23 is 161\n"
     ]
    }
   ],
   "source": [
    "for i in range(6,24):\n",
    "    print(\"{} times {} is {}\".format(7,i,7*i))"
   ]
  },
  {
   "cell_type": "code",
   "execution_count": 4,
   "id": "44f85c9a",
   "metadata": {},
   "outputs": [
    {
     "name": "stdout",
     "output_type": "stream",
     "text": [
      "enter number2\n",
      "fuck you\n"
     ]
    }
   ],
   "source": [
    "i=int(input(\"enter number\"))\n",
    "if i%2==0:\n",
    "    print(\"fuck you\")\n",
    "else:\n",
    "    print(\"sugondeeznuts\")\n",
    "\n"
   ]
  },
  {
   "cell_type": "code",
   "execution_count": 6,
   "id": "e1170ab2",
   "metadata": {},
   "outputs": [
    {
     "name": "stdout",
     "output_type": "stream",
     "text": [
      "enter number5\n",
      "12\n"
     ]
    }
   ],
   "source": [
    "i=int(input(\"enter number\"))\n",
    "if i%2==0:\n",
    "    print(i*7)\n",
    "else:\n",
    "    print(i+7)"
   ]
  },
  {
   "cell_type": "code",
   "execution_count": 18,
   "id": "7ecbc912",
   "metadata": {},
   "outputs": [
    {
     "name": "stdout",
     "output_type": "stream",
     "text": [
      "enter number7\n",
      "fuckmyass\n"
     ]
    }
   ],
   "source": [
    "i=int(input(\"enter number\"))\n",
    "if i%3==0 and i%5==0:\n",
    "    print(\"babysugondeeznuts\")\n",
    "elif i%5==0:\n",
    "    print(\"deez nuts\")\n",
    "elif i%3==0:\n",
    "    print(\"baby\")\n",
    "else:\n",
    "    print(\"fuckmyass\")\n",
    "  "
   ]
  },
  {
   "cell_type": "code",
   "execution_count": 20,
   "id": "0006cecb",
   "metadata": {},
   "outputs": [
    {
     "name": "stdout",
     "output_type": "stream",
     "text": [
      "enter number15\n",
      "babysugondeeznuts\n"
     ]
    }
   ],
   "source": [
    "i=int(input(\"enter number\"))\n",
    "if i%3==0:\n",
    "    print(\"babysugondeeznuts\")\n",
    "elif i%5==0:\n",
    "    print(\"deez nuts\")\n",
    "elif i%15==0:\n",
    "    print(\"baby\")\n",
    "else:\n",
    "    print(\"fuckmyass\")"
   ]
  },
  {
   "cell_type": "code",
   "execution_count": 1,
   "id": "14008d77",
   "metadata": {},
   "outputs": [
    {
     "name": "stdout",
     "output_type": "stream",
     "text": [
      "0\n",
      "i am in the loop\n",
      "2\n",
      "i am in the loop\n",
      "4\n",
      "i am in the loop\n",
      "6\n",
      "i am in the loop\n",
      "8\n",
      "i am in the loop\n",
      "abhi an idiot\n"
     ]
    }
   ],
   "source": [
    "for i in range(0,10):\n",
    "    if i%2==0:\n",
    "        print(i)\n",
    "        print(\"i am in the loop\")\n",
    "print(\"abhi an idiot\")\n",
    "    \n",
    "    \n",
    "    \n",
    "\n",
    "    "
   ]
  },
  {
   "cell_type": "code",
   "execution_count": 23,
   "id": "720532de",
   "metadata": {},
   "outputs": [
    {
     "name": "stdout",
     "output_type": "stream",
     "text": [
      "1\n",
      "2\n",
      "3\n",
      "4\n",
      "5\n"
     ]
    }
   ],
   "source": [
    "a=[1,2,3,4,5]-+\n",
    "for i in a:\n",
    "    print(i)"
   ]
  },
  {
   "cell_type": "code",
   "execution_count": 25,
   "id": "1fc31838",
   "metadata": {},
   "outputs": [
    {
     "name": "stdout",
     "output_type": "stream",
     "text": [
      "1\n",
      "2\n",
      "3\n",
      "4\n",
      "5\n"
     ]
    }
   ],
   "source": [
    "a=list(range(1,101))\n",
    "for i in a:\n",
    "    print(i)\n"
   ]
  },
  {
   "cell_type": "code",
   "execution_count": 22,
   "id": "eb28854a",
   "metadata": {},
   "outputs": [
    {
     "name": "stdout",
     "output_type": "stream",
     "text": [
      "1\n",
      "2\n",
      "3\n",
      "4\n",
      "5\n"
     ]
    }
   ],
   "source": [
    "for i in range(1,6):\n",
    "    print(i)\n",
    "    "
   ]
  },
  {
   "cell_type": "code",
   "execution_count": 3,
   "id": "f89987bb",
   "metadata": {},
   "outputs": [
    {
     "name": "stdout",
     "output_type": "stream",
     "text": [
      "taste ass\n",
      "taste ass\n",
      "this 3 is number is divisible by 3\n",
      "taste ass\n",
      "this 5 is divisible by 5\n",
      "this 6 is number is divisible by 3\n",
      "taste ass\n",
      "taste ass\n",
      "this 9 is number is divisible by 3\n",
      "this 10 is divisible by 5\n",
      "taste ass\n",
      "this 12 is number is divisible by 3\n",
      "taste ass\n",
      "taste ass\n",
      "this 15 is number is divisible by 3\n",
      "taste ass\n",
      "taste ass\n",
      "this 18 is number is divisible by 3\n",
      "taste ass\n",
      "this 20 is divisible by 5\n"
     ]
    }
   ],
   "source": [
    "a=list(range(1,21))\n",
    "for i in a:\n",
    "    if i%3==0:\n",
    "        print(\"this {} is number is divisible by 3\".format(i))\n",
    "    elif i%5==0:\n",
    "        print(\"this {} is divisible by 5\".format(i))\n",
    "    else:\n",
    "        print(\"taste ass\")"
   ]
  },
  {
   "cell_type": "code",
   "execution_count": 1,
   "id": "43b50161",
   "metadata": {},
   "outputs": [
    {
     "name": "stdout",
     "output_type": "stream",
     "text": [
      "enter a number3\n",
      "36\n"
     ]
    }
   ],
   "source": [
    "sum=0\n",
    "a=int(input(\"enter a number\"))\n",
    "for i in range(1,a+1):\n",
    "    sum=sum+i**3            #VERY IMPORTANT\n",
    "print(sum)"
   ]
  },
  {
   "cell_type": "code",
   "execution_count": 2,
   "id": "09445df6",
   "metadata": {},
   "outputs": [
    {
     "name": "stdout",
     "output_type": "stream",
     "text": [
      "enter number3\n",
      "216\n"
     ]
    }
   ],
   "source": [
    "product=1\n",
    "a=int(input(\"enter number\"))\n",
    "for i in range(1,a+1):\n",
    "    product=product*i**3\n",
    "print(product)\n",
    "    \n"
   ]
  },
  {
   "cell_type": "code",
   "execution_count": 1,
   "id": "9522c368",
   "metadata": {},
   "outputs": [
    {
     "name": "stdout",
     "output_type": "stream",
     "text": [
      "enter number3\n",
      "enter number4\n",
      "12\n"
     ]
    }
   ],
   "source": [
    "a=int(input(\"enter number\"))\n",
    "b=int(input(\"enter number\"))\n",
    "if a*b>1000:\n",
    "    print(a+b)\n",
    "else:\n",
    "    print(a*b)"
   ]
  },
  {
   "cell_type": "code",
   "execution_count": 34,
   "id": "c84b1a85",
   "metadata": {},
   "outputs": [
    {
     "name": "stdout",
     "output_type": "stream",
     "text": [
      "4\n",
      "6\n",
      "8\n",
      "10\n",
      "12\n",
      "14\n",
      "16\n",
      "18\n",
      "20\n",
      "22\n"
     ]
    }
   ],
   "source": [
    "i=1\n",
    "while i<=10:\n",
    "    i=i+1\n",
    "    print(2*i)\n",
    "    \n",
    "    "
   ]
  },
  {
   "cell_type": "code",
   "execution_count": 35,
   "id": "e4b6a571",
   "metadata": {},
   "outputs": [
    {
     "name": "stdout",
     "output_type": "stream",
     "text": [
      "2\n",
      "4\n",
      "6\n",
      "8\n",
      "10\n",
      "12\n",
      "14\n",
      "16\n",
      "18\n",
      "20\n"
     ]
    }
   ],
   "source": [
    "i=1\n",
    "while i<=10:\n",
    "    print(2*i)\n",
    "    i=i+1"
   ]
  },
  {
   "cell_type": "code",
   "execution_count": 38,
   "id": "a3787be3",
   "metadata": {},
   "outputs": [
    {
     "name": "stdout",
     "output_type": "stream",
     "text": [
      "7*3=21\n",
      "7*5=35\n",
      "7*7=49\n",
      "7*9=63\n",
      "7*11=77\n",
      "7*13=91\n",
      "7*15=105\n",
      "7*17=119\n",
      "7*19=133\n",
      "7*21=147\n",
      "7*23=161\n",
      "7*25=175\n"
     ]
    }
   ],
   "source": [
    "i=3\n",
    "while i<=25:\n",
    "    print(\"{}*{}={}\".format(7,i,7*i))\n",
    "    i=i+2\n"
   ]
  },
  {
   "cell_type": "code",
   "execution_count": 8,
   "id": "c701aa39",
   "metadata": {},
   "outputs": [
    {
     "data": {
      "text/plain": [
       "[3, 4, 5, 6, 7, 8, 9, 10]"
      ]
     },
     "execution_count": 8,
     "metadata": {},
     "output_type": "execute_result"
    }
   ],
   "source": [
    "b=[3,4,5,6,7,8,9,10]\n",
    "b\n",
    "\n"
   ]
  },
  {
   "cell_type": "code",
   "execution_count": 2,
   "id": "6d406e2a",
   "metadata": {},
   "outputs": [
    {
     "name": "stdout",
     "output_type": "stream",
     "text": [
      "[3, 4, 5, 6, 7, 8, 9, 10]\n"
     ]
    }
   ],
   "source": [
    "a=list(range(3,11))\n",
    "print(a)\n"
   ]
  },
  {
   "cell_type": "code",
   "execution_count": 13,
   "id": "bc2904da",
   "metadata": {},
   "outputs": [
    {
     "name": "stdout",
     "output_type": "stream",
     "text": [
      "odlid skcus kehsihba\n",
      "ahse uk id\n"
     ]
    }
   ],
   "source": [
    "a=\"abhishek sucks dildo\"\n",
    "print(a[::-1])\n",
    "print(a[::2])"
   ]
  },
  {
   "cell_type": "code",
   "execution_count": 21,
   "id": "528f8972",
   "metadata": {},
   "outputs": [
    {
     "name": "stdout",
     "output_type": "stream",
     "text": [
      "[7, 6, 5, 4, 3, 2]\n",
      "[2, 3, 4, 5, 6, 7]\n",
      "[2, 3, 4, 5, 6, 7]\n",
      "[4, 5, 6]\n",
      "6\n"
     ]
    }
   ],
   "source": [
    "b=[2,3,4,5,6,7]\n",
    "print(b[::-1])\n",
    "print(b[::])\n",
    "print(b[:])\n",
    "print(b[2:5:1])\n",
    "print(b[4])"
   ]
  },
  {
   "cell_type": "code",
   "execution_count": 30,
   "id": "0c0c4085",
   "metadata": {},
   "outputs": [
    {
     "name": "stdout",
     "output_type": "stream",
     "text": [
      "die\n",
      "4\n",
      "die\n",
      "6\n",
      "die\n",
      "8\n",
      "die\n",
      "10\n",
      "die\n"
     ]
    }
   ],
   "source": [
    "num=0\n",
    "a=[3,4,5,6,7,8,9,10,11]\n",
    "while num<len(a):\n",
    "    if a[num]%2==0:\n",
    "        print(a[num])\n",
    "    else:\n",
    "        print(\"die\")\n",
    "    num=num+1\n",
    "        "
   ]
  },
  {
   "cell_type": "code",
   "execution_count": 1,
   "id": "3803f558",
   "metadata": {},
   "outputs": [
    {
     "name": "stdout",
     "output_type": "stream",
     "text": [
      "22\n",
      "24\n",
      "26\n",
      "28\n",
      "30\n",
      "32\n",
      "34\n",
      "36\n",
      "38\n",
      "40\n",
      "42\n",
      "44\n",
      "46\n",
      "48\n"
     ]
    }
   ],
   "source": [
    "a=list(range(22,50))\n",
    "for i in a:s\n",
    "    if i%2==0:\n",
    "        print(i)"
   ]
  },
  {
   "cell_type": "code",
   "execution_count": 7,
   "id": "c6ab673e",
   "metadata": {},
   "outputs": [
    {
     "name": "stdout",
     "output_type": "stream",
     "text": [
      "enter number5\n",
      "0  \n",
      "1  \n",
      "1  \n",
      "2  \n",
      "3  \n",
      "5  \n"
     ]
    }
   ],
   "source": [
    "n1=0\n",
    "n2=1\n",
    "a=int(input(\"enter number\"))\n",
    "for i in range(0,a+1):                     #fibonacci series\n",
    "    print(n1,\" \")\n",
    "    sum=n1+n2\n",
    "    n1=n2\n",
    "    n2=sum"
   ]
  },
  {
   "cell_type": "code",
   "execution_count": 13,
   "id": "db320d57",
   "metadata": {},
   "outputs": [
    {
     "name": "stdout",
     "output_type": "stream",
     "text": [
      "[12, 3, 4, 2, 4, 3]\n"
     ]
    }
   ],
   "source": [
    "a=[12,3,4,2,4,3]\n",
    "print (a)"
   ]
  },
  {
   "cell_type": "code",
   "execution_count": 48,
   "id": "f35440dd",
   "metadata": {},
   "outputs": [
    {
     "name": "stdout",
     "output_type": "stream",
     "text": [
      "[1, 2, 3, 4, 5, 6, 7, 8, 9, 10, 11, 12]\n",
      "[1, 2, 3, 4, 5, 6, 7, 8, 9, 10, 11, 12]\n",
      "4\n",
      "[7, 8, 9, 10, 11]\n",
      "[12, 11, 10, 9, 8]\n",
      "[12, 11, 10, 9, 8, 7, 6, 5, 4, 3]\n",
      "[1, 12]\n"
     ]
    }
   ],
   "source": [
    "#lists can also be sliced\n",
    "a=list(range(1,13))\n",
    "print(a)\n",
    "print(a[:])\n",
    "print(a[3])\n",
    "print(a[6:11:1])\n",
    "print(a[12:6:-1])\n",
    "print(a[-1:1:-1])\n",
    "print(a[0::11])"
   ]
  },
  {
   "cell_type": "code",
   "execution_count": 55,
   "id": "da6c07ac",
   "metadata": {},
   "outputs": [
    {
     "name": "stdout",
     "output_type": "stream",
     "text": [
      "['abhishek', 'likes', 'dildos']\n",
      "abhishek\n",
      "likes\n",
      "dildos\n"
     ]
    }
   ],
   "source": [
    "#traversing\n",
    "a=[\"abhishek\",\"likes\",\"dildos\"]\n",
    "print(a)\n",
    "for i in a:\n",
    "    print(i)"
   ]
  },
  {
   "cell_type": "code",
   "execution_count": 56,
   "id": "027ba974",
   "metadata": {},
   "outputs": [
    {
     "name": "stdout",
     "output_type": "stream",
     "text": [
      "['a', 'b', 'h', 'i', 's', 'h', 'e', 'k']\n",
      "a\n",
      "b\n",
      "h\n",
      "i\n",
      "s\n",
      "h\n",
      "e\n",
      "k\n"
     ]
    }
   ],
   "source": [
    "#traversing\n",
    "a=list(\"abhishek\")\n",
    "print(a)\n",
    "for i in a:\n",
    "    print(i)"
   ]
  },
  {
   "cell_type": "code",
   "execution_count": 57,
   "id": "9594f4c8",
   "metadata": {},
   "outputs": [],
   "source": [
    "#[1,2,3,4]<[4,5,6]-true....................1<4\n",
    "#[1,2,3,4]<[1,5,2,3]-true..................2<5\n",
    "#[1,2,3,4]>[1,2,0,3]-true..................3>0\n",
    "#[1,2,3,4]<[1,2,3,2]-false.................4>2"
   ]
  },
  {
   "cell_type": "code",
   "execution_count": 58,
   "id": "273a131e",
   "metadata": {},
   "outputs": [
    {
     "name": "stdout",
     "output_type": "stream",
     "text": [
      "4\n"
     ]
    }
   ],
   "source": [
    "#nested loops \n",
    "a=[1,2,3,4,5,6]\n",
    "b=[4,8,12,16,20,24]\n",
    "for i in a:\n",
    "    for j in b:\n",
    "        if i==j:\n",
    "            print(i)\n",
    "        \n",
    "        "
   ]
  },
  {
   "cell_type": "code",
   "execution_count": 59,
   "id": "a1e763cf",
   "metadata": {},
   "outputs": [
    {
     "name": "stdout",
     "output_type": "stream",
     "text": [
      "1\n",
      "2\n",
      "3\n",
      "[4, 5]\n",
      "6\n"
     ]
    }
   ],
   "source": [
    "a=[1,2,3,[4,5],6]\n",
    "for i in a:\n",
    "    print(i)\n"
   ]
  },
  {
   "cell_type": "code",
   "execution_count": 60,
   "id": "6a16a63e",
   "metadata": {},
   "outputs": [
    {
     "name": "stdout",
     "output_type": "stream",
     "text": [
      "adhvay\n",
      "abhishek\n",
      "3\n",
      "4\n",
      "5\n",
      "ass\n",
      "32\n"
     ]
    }
   ],
   "source": [
    "a=[\"adhvay\",\"abhishek\",3,4,5,\"ass\",32]\n",
    "for i in a:\n",
    "    print(i)\n",
    "\n"
   ]
  },
  {
   "cell_type": "code",
   "execution_count": 61,
   "id": "9615805f",
   "metadata": {},
   "outputs": [
    {
     "name": "stdout",
     "output_type": "stream",
     "text": [
      "adhvay\n",
      "['abhishek', 'juicy']\n",
      "23\n",
      "[2, 3, 4]\n",
      "tiddies\n",
      "[24, 10, 'bryant']\n"
     ]
    }
   ],
   "source": [
    "a=[\"adhvay\",[\"abhishek\",\"juicy\"],23,[2,3,4],\"tiddies\",[24,10,\"bryant\"]]\n",
    "for i in a:\n",
    "    print(i)\n"
   ]
  },
  {
   "cell_type": "code",
   "execution_count": 66,
   "id": "e146ab50",
   "metadata": {},
   "outputs": [
    {
     "name": "stdout",
     "output_type": "stream",
     "text": [
      "True\n",
      "True\n",
      "False\n",
      "False\n"
     ]
    }
   ],
   "source": [
    "#membership testing\n",
    "a=[1,2,3,4]\n",
    "print(2 in a)\n",
    "print(6 not in a)\n",
    "print(2 not in a)\n",
    "print(6 in a)"
   ]
  },
  {
   "cell_type": "code",
   "execution_count": 68,
   "id": "1c99a9eb",
   "metadata": {},
   "outputs": [
    {
     "name": "stdout",
     "output_type": "stream",
     "text": [
      "[1, 2, 3, 5, 6, 7, 8, 9]\n",
      "['adhvay', 1, 2, 3, 5]\n"
     ]
    }
   ],
   "source": [
    "#concatenantion(merging)\n",
    "#lists can be addded w each other\n",
    "a=[1,2,3,5]\n",
    "b=[6,7,8,9]\n",
    "c=[\"adhvay\"]+a\n",
    "print(a+b)\n",
    "print(c)"
   ]
  },
  {
   "cell_type": "code",
   "execution_count": 118,
   "id": "c484c891",
   "metadata": {},
   "outputs": [
    {
     "name": "stdout",
     "output_type": "stream",
     "text": [
      "[1, 2, 3, 4, 1, 2, 3, 4, 1, 2, 3, 4, 1, 2, 3, 4]\n",
      "[1, 2, 3, 4, 1, 2, 3, 4, 1, 2, 3, 4, 2, 3, 4, 5]\n"
     ]
    }
   ],
   "source": [
    "#replication or reputaion\n",
    "#lists cannot be multipilied w each other\n",
    "a=[1,2,3,4]\n",
    "b=[2,3,4,5]\n",
    "print(a*4)\n",
    "print(a*3+b)"
   ]
  },
  {
   "cell_type": "code",
   "execution_count": 74,
   "id": "175dce38",
   "metadata": {},
   "outputs": [
    {
     "name": "stdout",
     "output_type": "stream",
     "text": [
      "[1, 2, 3, 4]\n",
      "[1, 2, 3, 4]\n",
      "[1, 2, 3, 4]\n"
     ]
    }
   ],
   "source": [
    "#property of liests,built in functions of list\n",
    "#copy list\n",
    "a=[1,2,3,4]\n",
    "b=a[:]                         #method 1\n",
    "c=list(a)                      #method2\n",
    "d=list(a).copy()               #method3\n",
    "print(b)                       #method4\n",
    "print(c)\n",
    "print(d)\n"
   ]
  },
  {
   "cell_type": "code",
   "execution_count": 76,
   "id": "19e5843a",
   "metadata": {},
   "outputs": [
    {
     "name": "stdout",
     "output_type": "stream",
     "text": [
      "[1, 2, 3, 4, 'ass']\n",
      "[1, 2, 3, 4, 'ass', [2, 3, 4, 5]]\n"
     ]
    }
   ],
   "source": [
    "#append\n",
    "a=[1,2,3,4]\n",
    "a.append(\"ass\")\n",
    "print(a)\n",
    "a.append([2,3,4,5])\n",
    "print(a)"
   ]
  },
  {
   "cell_type": "code",
   "execution_count": 77,
   "id": "e3832689",
   "metadata": {},
   "outputs": [
    {
     "name": "stdout",
     "output_type": "stream",
     "text": [
      "[1, 2, 3, 3, 4, 5]\n"
     ]
    }
   ],
   "source": [
    "#extend\n",
    "a=[1,2,3]\n",
    "b=[3,4,5]\n",
    "a.extend(b)\n",
    "print(a)"
   ]
  },
  {
   "cell_type": "code",
   "execution_count": 82,
   "id": "49192f07",
   "metadata": {},
   "outputs": [
    {
     "name": "stdout",
     "output_type": "stream",
     "text": [
      "[1, 2, 10, ['ded', 'dead'], 3]\n"
     ]
    }
   ],
   "source": [
    "#insert\n",
    "a=[1,2,3]\n",
    "a.insert(2,10)\n",
    "a.insert(3,[\"ded\",\"dead\"])\n",
    "print(a)"
   ]
  },
  {
   "cell_type": "code",
   "execution_count": 84,
   "id": "18c8326d",
   "metadata": {},
   "outputs": [
    {
     "name": "stdout",
     "output_type": "stream",
     "text": [
      "[3, 2, 1]\n"
     ]
    }
   ],
   "source": [
    "#reverse\n",
    "a=[1,2,3]\n",
    "a.reverse()\n",
    "print(a)\n"
   ]
  },
  {
   "cell_type": "code",
   "execution_count": 90,
   "id": "5b5465b9",
   "metadata": {},
   "outputs": [
    {
     "name": "stdout",
     "output_type": "stream",
     "text": [
      "2\n"
     ]
    },
    {
     "ename": "ValueError",
     "evalue": "22 is not in list",
     "output_type": "error",
     "traceback": [
      "\u001b[1;31m---------------------------------------------------------------------------\u001b[0m",
      "\u001b[1;31mValueError\u001b[0m                                Traceback (most recent call last)",
      "\u001b[1;32m<ipython-input-90-dad38ce5edec>\u001b[0m in \u001b[0;36m<module>\u001b[1;34m\u001b[0m\n\u001b[0;32m      2\u001b[0m \u001b[0ma\u001b[0m\u001b[1;33m=\u001b[0m\u001b[1;33m[\u001b[0m\u001b[1;36m1\u001b[0m\u001b[1;33m,\u001b[0m\u001b[1;36m2\u001b[0m\u001b[1;33m,\u001b[0m\u001b[1;36m3\u001b[0m\u001b[1;33m]\u001b[0m\u001b[1;33m\u001b[0m\u001b[1;33m\u001b[0m\u001b[0m\n\u001b[0;32m      3\u001b[0m \u001b[0mprint\u001b[0m\u001b[1;33m(\u001b[0m\u001b[0ma\u001b[0m\u001b[1;33m.\u001b[0m\u001b[0mindex\u001b[0m\u001b[1;33m(\u001b[0m\u001b[1;36m3\u001b[0m\u001b[1;33m)\u001b[0m\u001b[1;33m)\u001b[0m\u001b[1;33m\u001b[0m\u001b[1;33m\u001b[0m\u001b[0m\n\u001b[1;32m----> 4\u001b[1;33m \u001b[0mprint\u001b[0m\u001b[1;33m(\u001b[0m\u001b[0ma\u001b[0m\u001b[1;33m.\u001b[0m\u001b[0mindex\u001b[0m\u001b[1;33m(\u001b[0m\u001b[1;36m22\u001b[0m\u001b[1;33m)\u001b[0m\u001b[1;33m)\u001b[0m\u001b[1;33m\u001b[0m\u001b[1;33m\u001b[0m\u001b[0m\n\u001b[0m\u001b[0;32m      5\u001b[0m \u001b[1;33m\u001b[0m\u001b[0m\n",
      "\u001b[1;31mValueError\u001b[0m: 22 is not in list"
     ]
    }
   ],
   "source": [
    "#index(uses actual value)\n",
    "a=[1,2,3]\n",
    "print(a.index(3))\n",
    "print(a.index(22))\n",
    "\n"
   ]
  },
  {
   "cell_type": "code",
   "execution_count": 96,
   "id": "6f8be615",
   "metadata": {},
   "outputs": [
    {
     "name": "stdout",
     "output_type": "stream",
     "text": [
      "[1, 2, 5]\n",
      "['ded', 'adhvay', 'bg']\n"
     ]
    }
   ],
   "source": [
    "#updating list\n",
    "a=[1,2,3]\n",
    "a[2]=5\n",
    "print(a)\n",
    "b=[\"ded\",\"ass\",\"bg\"]\n",
    "b[1]=\"adhvay\"\n",
    "print(b)\n"
   ]
  },
  {
   "cell_type": "code",
   "execution_count": 97,
   "id": "c4ee522a",
   "metadata": {},
   "outputs": [
    {
     "name": "stdout",
     "output_type": "stream",
     "text": [
      "3\n"
     ]
    }
   ],
   "source": [
    "#length\n",
    "a=[4,5,6]\n",
    "print(len(a))"
   ]
  },
  {
   "cell_type": "code",
   "execution_count": 100,
   "id": "58431a1d",
   "metadata": {},
   "outputs": [
    {
     "name": "stdout",
     "output_type": "stream",
     "text": [
      "[0, 1, 2, 3, 6, 7, 8, 9.4]\n",
      "[9.4, 8, 7, 6, 3, 2, 1, 0]\n"
     ]
    }
   ],
   "source": [
    "#sort\n",
    "a=[6,7,8,9.4,1,3,2,0]\n",
    "a.sort()\n",
    "print(a)\n",
    "a.sort(reverse=True)\n",
    "print(a)"
   ]
  },
  {
   "cell_type": "code",
   "execution_count": 101,
   "id": "31cdb63e",
   "metadata": {},
   "outputs": [
    {
     "name": "stdout",
     "output_type": "stream",
     "text": [
      "[]\n"
     ]
    }
   ],
   "source": [
    "#clear\n",
    "a=[3,4,5,6,2,1,4]\n",
    "a.clear()\n",
    "print(a)"
   ]
  },
  {
   "cell_type": "code",
   "execution_count": 113,
   "id": "c14dc76e",
   "metadata": {},
   "outputs": [
    {
     "name": "stdout",
     "output_type": "stream",
     "text": [
      "[1, 3, 5, 6, 2, 7, 0, 9, 11, 34, 55, 66, 33]\n",
      "[1, 3, 5, 6, 2, 7, 0, 9, 11, 34, 55, 66]\n",
      "[1, 3, 5, 6, 2, 7, 0, 9, 34, 55, 66]\n",
      "[1, 3, 5, 6, 2, 7, 0, 9]\n",
      "[1, 6, 2, 7, 0, 9]\n",
      "[6, 2, 7, 0, 9]\n"
     ]
    }
   ],
   "source": [
    "#deletion\n",
    "a=[1,3,5,6,2,7,0,9,21,11,34,55,66,33]\n",
    "a.pop(8)              #method1\n",
    "print(a)\n",
    "a.pop(-1)         \n",
    "print(a)\n",
    "del a[-4]             #method2\n",
    "print(a)\n",
    "del a[-1:-4:-1]       #method3\n",
    "print(a)\n",
    "del a[1:3]\n",
    "print(a)\n",
    "a.remove(1)           #method4,only method using actual value\n",
    "print(a)\n"
   ]
  },
  {
   "cell_type": "code",
   "execution_count": 115,
   "id": "6ef82dee",
   "metadata": {},
   "outputs": [
    {
     "data": {
      "text/plain": [
       "2"
      ]
     },
     "execution_count": 115,
     "metadata": {},
     "output_type": "execute_result"
    }
   ],
   "source": [
    "#count(uses actual value)\n",
    "a=[1,2,3,4,5,5,4,3,2,1]\n",
    "a.count(5)\n",
    "\n"
   ]
  },
  {
   "cell_type": "code",
   "execution_count": 117,
   "id": "dc6e2cbb",
   "metadata": {},
   "outputs": [
    {
     "name": "stdout",
     "output_type": "stream",
     "text": [
      "5\n",
      "1\n"
     ]
    }
   ],
   "source": [
    "#max,min\n",
    "a=[1,2,3,4,5]\n",
    "print(max(a))\n",
    "print(min(a))"
   ]
  },
  {
   "cell_type": "code",
   "execution_count": 3,
   "id": "5102ab0c",
   "metadata": {},
   "outputs": [
    {
     "name": "stdout",
     "output_type": "stream",
     "text": [
      "32\n"
     ]
    }
   ],
   "source": [
    "#sum\n",
    "a=[1,5,6,3,9,8]\n",
    "print(sum(a))"
   ]
  },
  {
   "cell_type": "code",
   "execution_count": null,
   "id": "85ee35ed",
   "metadata": {},
   "outputs": [],
   "source": [
    "#difference of count and length\n",
    "#count uses actual value,it counts the same no.of items in the list,a=[1,4,4,1,2],a.count(4).....2\n",
    "#length counts the no. of items in a list ,a-[1,2,3,4],print(len(a))................4\n",
    "\n",
    "\n",
    "#difference between append,extend,insert and concatenantion\n",
    "#append adds only one item to the end of its list,a=[1,2,3,4],a.append(\"ass\"),print(a)\n",
    "#extend adds only lists to the end of its list\n",
    "#insert adds anything anywhere inside the list\n",
    "#concatenantion is the method of adding anything to anything,list1+list2\n",
    "\n",
    "\n",
    "#difference between pop,delete and remove\n",
    "#pop removes any 1 item anywhere using index value in the list\n",
    "#delete removes any number of items anywhere using index value in the list\n",
    "#remove removes any one item anywhere using actual value in the list\n",
    "\n",
    "\n",
    "#difference between tuple and list\n",
    "#tuple-less memory,immutable,normal brackets (),tuples in dictionary as key\n",
    "#lists-more memory,mutable,square brackets[],list cannot be key in dictionary\n",
    "\n",
    "\n",
    "#append-lists,dictionary\n",
    "#copy-lists,tuples,dictionary\n",
    "#extend-lists\n",
    "#insert-lists\n",
    "#reverse-lists\n",
    "#index-lists,tuples\n",
    "#updating-lists,dictionary\n",
    "#length-lists,tuples,dictionary\n",
    "#sort-lists,dictionary\n",
    "#clear-lists,dictionary\n",
    "#deletion-lists,dictionary,tuples\n",
    "#pop-lists,dictionary\n",
    "#remove-lists\n",
    "#count-lists,tuples,dictionary\n",
    "#min,max-lists,tuples,dictionary\n",
    "#sum-tuples,lists\n",
    "#any-tuples,lists\n",
    "#sorted-lists,(tuples will be converted to sorted lists),dictonary\n",
    "#popitems-dictionary\n",
    "#get-dictionary\n",
    "#items-dictionary\n",
    "#keys-dictionary\n",
    "#values-dictionary\n",
    "#fromkeys-dictionary\n",
    "#setdefault-dictionary\n"
   ]
  },
  {
   "cell_type": "code",
   "execution_count": 119,
   "id": "cff9da3c",
   "metadata": {},
   "outputs": [
    {
     "name": "stdout",
     "output_type": "stream",
     "text": [
      "(1, 2, 3, 4)\n",
      "[1, 2, 3, 4]\n",
      "[1, 2, 3, 4]\n",
      "(3, 4, 5, 6, 7)\n"
     ]
    }
   ],
   "source": [
    "a=(1,2,3,4)\n",
    "b=[1,2,3,4]\n",
    "c=list(range(1,5))\n",
    "d=tuple(range(3,8))\n",
    "print(a)\n",
    "print(b)\n",
    "print(c)\n",
    "print(d)"
   ]
  },
  {
   "cell_type": "code",
   "execution_count": 120,
   "id": "c608bbe4",
   "metadata": {},
   "outputs": [
    {
     "name": "stdout",
     "output_type": "stream",
     "text": [
      "1\n",
      "2\n",
      "3\n",
      "4\n",
      "5\n"
     ]
    }
   ],
   "source": [
    "#traversing a tuple(printing each element in tuple is called traversing)\n",
    "a=(1,2,3,4,5)\n",
    "for i in a:\n",
    "    print(i)"
   ]
  },
  {
   "cell_type": "code",
   "execution_count": 127,
   "id": "0e7fdf79",
   "metadata": {},
   "outputs": [
    {
     "name": "stdout",
     "output_type": "stream",
     "text": [
      "(1, 2, 3, 4, 5, 6, 7, 8, 9, 0)\n",
      "6\n",
      "(0, 8, 6, 4)\n",
      "(1, 8)\n"
     ]
    }
   ],
   "source": [
    "#slicing tuples\n",
    "a=(1,2,3,4,5,6,7,8,9,0)\n",
    "print(a[:])\n",
    "print(a[5])\n",
    "print(a[-1:2:-2])\n",
    "print(a[:-1:7])"
   ]
  },
  {
   "cell_type": "code",
   "execution_count": 129,
   "id": "3147fc3f",
   "metadata": {},
   "outputs": [
    {
     "data": {
      "text/plain": [
       "1"
      ]
     },
     "execution_count": 129,
     "metadata": {},
     "output_type": "execute_result"
    }
   ],
   "source": [
    "#index\n",
    "a=(1,2,3,4,5)\n",
    "a.index(2)\n"
   ]
  },
  {
   "cell_type": "code",
   "execution_count": 130,
   "id": "19b1b2ec",
   "metadata": {},
   "outputs": [
    {
     "name": "stdout",
     "output_type": "stream",
     "text": [
      "(1, 2, 3, 3, 4, 5)\n"
     ]
    }
   ],
   "source": [
    "#concatenantion\n",
    "a=(1,2,3)\n",
    "b=(3,4,5)\n",
    "print(a+b)\n"
   ]
  },
  {
   "cell_type": "code",
   "execution_count": 133,
   "id": "e9734e1e",
   "metadata": {},
   "outputs": [
    {
     "name": "stdout",
     "output_type": "stream",
     "text": [
      "(1, 2, 3, 4, 1, 2, 3, 4, 1, 2, 3, 4)\n"
     ]
    },
    {
     "ename": "TypeError",
     "evalue": "can't multiply sequence by non-int of type 'tuple'",
     "output_type": "error",
     "traceback": [
      "\u001b[1;31m---------------------------------------------------------------------------\u001b[0m",
      "\u001b[1;31mTypeError\u001b[0m                                 Traceback (most recent call last)",
      "\u001b[1;32m<ipython-input-133-0032cb22a2af>\u001b[0m in \u001b[0;36m<module>\u001b[1;34m\u001b[0m\n\u001b[0;32m      2\u001b[0m \u001b[0ma\u001b[0m\u001b[1;33m=\u001b[0m\u001b[1;33m(\u001b[0m\u001b[1;36m1\u001b[0m\u001b[1;33m,\u001b[0m\u001b[1;36m2\u001b[0m\u001b[1;33m,\u001b[0m\u001b[1;36m3\u001b[0m\u001b[1;33m,\u001b[0m\u001b[1;36m4\u001b[0m\u001b[1;33m)\u001b[0m\u001b[1;33m\u001b[0m\u001b[1;33m\u001b[0m\u001b[0m\n\u001b[0;32m      3\u001b[0m \u001b[0mprint\u001b[0m\u001b[1;33m(\u001b[0m\u001b[0ma\u001b[0m\u001b[1;33m*\u001b[0m\u001b[1;36m3\u001b[0m\u001b[1;33m)\u001b[0m\u001b[1;33m\u001b[0m\u001b[1;33m\u001b[0m\u001b[0m\n\u001b[1;32m----> 4\u001b[1;33m \u001b[0mprint\u001b[0m\u001b[1;33m(\u001b[0m\u001b[0ma\u001b[0m\u001b[1;33m*\u001b[0m\u001b[0ma\u001b[0m\u001b[1;33m)\u001b[0m\u001b[1;33m\u001b[0m\u001b[1;33m\u001b[0m\u001b[0m\n\u001b[0m",
      "\u001b[1;31mTypeError\u001b[0m: can't multiply sequence by non-int of type 'tuple'"
     ]
    }
   ],
   "source": [
    "#repetition\n",
    "a=(1,2,3,4)\n",
    "print(a*3)\n",
    "print(a*a)"
   ]
  },
  {
   "cell_type": "code",
   "execution_count": 134,
   "id": "6c0144d8",
   "metadata": {},
   "outputs": [
    {
     "data": {
      "text/plain": [
       "2"
      ]
     },
     "execution_count": 134,
     "metadata": {},
     "output_type": "execute_result"
    }
   ],
   "source": [
    "#count\n",
    "a=(1,2,2,4,5,4,5)\n",
    "a.count(2)\n",
    "#counted no. of 2s"
   ]
  },
  {
   "cell_type": "code",
   "execution_count": 1,
   "id": "67b83e32",
   "metadata": {},
   "outputs": [
    {
     "name": "stdout",
     "output_type": "stream",
     "text": [
      "True\n",
      "False\n"
     ]
    }
   ],
   "source": [
    "## membership intending\n",
    "a=(1,2,3,4,5)\n",
    "print(2 in a)\n",
    "print(5 not in a)\n"
   ]
  },
  {
   "cell_type": "code",
   "execution_count": null,
   "id": "460e3e3a",
   "metadata": {},
   "outputs": [],
   "source": [
    "#\n",
    "a=(2,3,\"dead\",\"ded\",(3,4),(\"bod\",\"bed\"),[1,2],[\"ged\",\"bred\"] )\n"
   ]
  },
  {
   "cell_type": "code",
   "execution_count": 138,
   "id": "d8ecd734",
   "metadata": {},
   "outputs": [
    {
     "data": {
      "text/plain": [
       "4"
      ]
     },
     "execution_count": 138,
     "metadata": {},
     "output_type": "execute_result"
    }
   ],
   "source": [
    "#length\n",
    "a=(1,2,3,4)\n",
    "len(a)"
   ]
  },
  {
   "cell_type": "code",
   "execution_count": 141,
   "id": "68bc1d63",
   "metadata": {},
   "outputs": [
    {
     "name": "stdout",
     "output_type": "stream",
     "text": [
      "True\n",
      "False\n"
     ]
    }
   ],
   "source": [
    "#any\n",
    "a=(1,2,3,4)\n",
    "b=()\n",
    "print(any(a))\n",
    "print(any(b))"
   ]
  },
  {
   "cell_type": "code",
   "execution_count": 144,
   "id": "baa33fab",
   "metadata": {},
   "outputs": [
    {
     "name": "stdout",
     "output_type": "stream",
     "text": [
      "4\n",
      "1\n"
     ]
    }
   ],
   "source": [
    "#max,min\n",
    "a=(1,2,3,4)\n",
    "print(max(a))\n",
    "print(min(a))"
   ]
  },
  {
   "cell_type": "code",
   "execution_count": 145,
   "id": "b5261a82",
   "metadata": {},
   "outputs": [
    {
     "name": "stdout",
     "output_type": "stream",
     "text": [
      "3\n",
      "4\n"
     ]
    }
   ],
   "source": [
    "a=(1,2,3,4)\n",
    "print(a.index(4))\n",
    "print(max(a))"
   ]
  },
  {
   "cell_type": "code",
   "execution_count": 146,
   "id": "f9b71a2f",
   "metadata": {},
   "outputs": [
    {
     "name": "stdout",
     "output_type": "stream",
     "text": [
      "10\n"
     ]
    }
   ],
   "source": [
    "#sum\n",
    "a=(1,2,3,4)\n",
    "print(sum(a))"
   ]
  },
  {
   "cell_type": "code",
   "execution_count": 147,
   "id": "de18a973",
   "metadata": {},
   "outputs": [
    {
     "name": "stdout",
     "output_type": "stream",
     "text": [
      "[1, 2, 3, 4, 6]\n"
     ]
    }
   ],
   "source": [
    "#sorted-takes sorted tuple but gives end result as a list\n",
    "a=(2,3,6,1,4)\n",
    "print(sorted(a))"
   ]
  },
  {
   "cell_type": "code",
   "execution_count": 148,
   "id": "470ef6fe",
   "metadata": {},
   "outputs": [
    {
     "ename": "NameError",
     "evalue": "name 'a' is not defined",
     "output_type": "error",
     "traceback": [
      "\u001b[1;31m---------------------------------------------------------------------------\u001b[0m",
      "\u001b[1;31mNameError\u001b[0m                                 Traceback (most recent call last)",
      "\u001b[1;32m<ipython-input-148-16f376d1860a>\u001b[0m in \u001b[0;36m<module>\u001b[1;34m\u001b[0m\n\u001b[0;32m      2\u001b[0m \u001b[0ma\u001b[0m\u001b[1;33m=\u001b[0m\u001b[1;33m(\u001b[0m\u001b[1;36m1\u001b[0m\u001b[1;33m,\u001b[0m\u001b[1;36m2\u001b[0m\u001b[1;33m,\u001b[0m\u001b[1;36m3\u001b[0m\u001b[1;33m,\u001b[0m\u001b[1;36m4\u001b[0m\u001b[1;33m)\u001b[0m\u001b[1;33m\u001b[0m\u001b[1;33m\u001b[0m\u001b[0m\n\u001b[0;32m      3\u001b[0m \u001b[1;32mdel\u001b[0m \u001b[0ma\u001b[0m\u001b[1;33m\u001b[0m\u001b[1;33m\u001b[0m\u001b[0m\n\u001b[1;32m----> 4\u001b[1;33m \u001b[0mprint\u001b[0m\u001b[1;33m(\u001b[0m\u001b[0ma\u001b[0m\u001b[1;33m)\u001b[0m\u001b[1;33m\u001b[0m\u001b[1;33m\u001b[0m\u001b[0m\n\u001b[0m",
      "\u001b[1;31mNameError\u001b[0m: name 'a' is not defined"
     ]
    }
   ],
   "source": [
    "#deleting a tuple\n",
    "a=(1,2,3,4)\n",
    "del a\n",
    "print(a)"
   ]
  },
  {
   "cell_type": "code",
   "execution_count": 149,
   "id": "dd6da7b4",
   "metadata": {},
   "outputs": [
    {
     "name": "stdout",
     "output_type": "stream",
     "text": [
      "True\n",
      "False\n"
     ]
    }
   ],
   "source": [
    "a=(1,2,3)\n",
    "b=(10,20,30)\n",
    "print(a!=b)\n",
    "print(a==b)"
   ]
  },
  {
   "cell_type": "code",
   "execution_count": null,
   "id": "c6c34a4b",
   "metadata": {},
   "outputs": [],
   "source": []
  },
  {
   "cell_type": "code",
   "execution_count": null,
   "id": "3b0e6a54",
   "metadata": {},
   "outputs": [],
   "source": [
    "a={\"q\":1,\"b\":3}\n",
    "b={\"wed\":\"rainy\",\"tue\":\"horny\"}\n",
    "c={12:\"red\",30:dry}\n",
    "d={12:3,33:4}\n",
    "\n"
   ]
  },
  {
   "cell_type": "code",
   "execution_count": 152,
   "id": "9c32dea0",
   "metadata": {},
   "outputs": [
    {
     "name": "stdout",
     "output_type": "stream",
     "text": [
      "{1: 2, 2: 3, 4: 5, 'ded': 23, 24: 'dead', 'boi': 'fr'}\n",
      "23\n"
     ]
    }
   ],
   "source": [
    "a={11:22,33:44}\n",
    "b=dict(a)\n",
    "c=[[1,2],[2,3],[4,5],[\"ded\",23],[24,\"dead\"],[\"boi\",\"fr\"]]\n",
    "d=dict(c)\n",
    "print(d)\n",
    "print(d[\"ded\"])"
   ]
  },
  {
   "cell_type": "code",
   "execution_count": 160,
   "id": "3187f245",
   "metadata": {},
   "outputs": [
    {
     "name": "stdout",
     "output_type": "stream",
     "text": [
      "one : ded\n",
      "two : dead\n",
      "three : death\n",
      "four : dreath\n"
     ]
    }
   ],
   "source": [
    "#traversing a dictionary\n",
    "a={\"one\":\"ded\",\"two\":\"dead\",\"three\":\"death\",\"four\":\"dreath\"}\n",
    "for i in a:\n",
    "    print(i,\":\",a[i])\n",
    "    \n"
   ]
  },
  {
   "cell_type": "code",
   "execution_count": 161,
   "id": "f8460326",
   "metadata": {},
   "outputs": [
    {
     "name": "stdout",
     "output_type": "stream",
     "text": [
      "{'one': 'ded', 'two': 'dead', 'three': 'death', 'four': 'dreath', 'five': 'fer'}\n"
     ]
    }
   ],
   "source": [
    "#appendinf while using dictionary\n",
    "a[\"five\"]=\"fer\"\n",
    "print(a)"
   ]
  },
  {
   "cell_type": "code",
   "execution_count": 162,
   "id": "8fbf30ef",
   "metadata": {},
   "outputs": [
    {
     "name": "stdout",
     "output_type": "stream",
     "text": [
      "{21: 22, 11: 34, 33: 44, 23: 32, 43: 20, 46: 26}\n",
      "{21: 14, 11: 34, 33: 41, 23: 32, 43: 20, 46: 26}\n"
     ]
    }
   ],
   "source": [
    "#updating dictionary\n",
    "a={21:22,11:34,33:44}\n",
    "b={23:32,43:20,46:26}\n",
    "c={21:14,33:41}\n",
    "a.update(b)           #if bkeys are not present in a,b keys will be added to dictionary of a\n",
    "print(a)\n",
    "a.update(c)          #if ckeys are present in a ,the akeys are updated to c\n",
    "print(a)"
   ]
  },
  {
   "cell_type": "code",
   "execution_count": 166,
   "id": "ba7d0a78",
   "metadata": {},
   "outputs": [
    {
     "name": "stdout",
     "output_type": "stream",
     "text": [
      "{11: 34, 33: 41, 23: 32, 43: 20, 46: 26}\n",
      "{33: 41, 23: 32, 43: 20, 46: 26}\n"
     ]
    }
   ],
   "source": [
    "#removinf item from dictionary\n",
    "a={21: 14, 11: 34, 33: 41, 23: 32, 43: 20, 46: 26}\n",
    "del a[21]       #method 1-uses actual key value \n",
    "print(a)\n",
    "a.pop(11)       #method2-uses actual key value\n",
    "print(a)"
   ]
  },
  {
   "cell_type": "code",
   "execution_count": 168,
   "id": "d9e25ec2",
   "metadata": {},
   "outputs": [
    {
     "name": "stdout",
     "output_type": "stream",
     "text": [
      "True\n",
      "True\n"
     ]
    }
   ],
   "source": [
    "#membership testing\n",
    "a={21: 14, 11: 34, 33: 41, 23: 32, 43: 20, 46: 26}\n",
    "print(11 in a)\n",
    "print(22 not in a)"
   ]
  },
  {
   "cell_type": "code",
   "execution_count": 170,
   "id": "b895b0d4",
   "metadata": {},
   "outputs": [
    {
     "name": "stdout",
     "output_type": "stream",
     "text": [
      "{}\n"
     ]
    }
   ],
   "source": [
    "#functions of dictionary\n",
    "#clear\n",
    "a={21: 14, 11: 34, 33: 41, 23: 32, 43: 20, 46: 26}\n",
    "a.clear()\n",
    "print(a)\n"
   ]
  },
  {
   "cell_type": "code",
   "execution_count": 171,
   "id": "075eba51",
   "metadata": {},
   "outputs": [
    {
     "data": {
      "text/plain": [
       "14"
      ]
     },
     "execution_count": 171,
     "metadata": {},
     "output_type": "execute_result"
    }
   ],
   "source": [
    "#get-uses actual value of the key\n",
    "a={21: 14, 11: 34, 33: 41, 23: 32, 43: 20, 46: 26}\n",
    "a.get(21)"
   ]
  },
  {
   "cell_type": "code",
   "execution_count": 174,
   "id": "050e276b",
   "metadata": {},
   "outputs": [
    {
     "data": {
      "text/plain": [
       "dict_items([(21, 14), (11, 34), (33, 41), (23, 32), (43, 20), (46, 26)])"
      ]
     },
     "execution_count": 174,
     "metadata": {},
     "output_type": "execute_result"
    }
   ],
   "source": [
    "#items\n",
    "a={21: 14, 11: 34, 33: 41, 23: 32, 43: 20, 46: 26}\n",
    "a.items()"
   ]
  },
  {
   "cell_type": "code",
   "execution_count": 175,
   "id": "ef71a317",
   "metadata": {},
   "outputs": [
    {
     "data": {
      "text/plain": [
       "dict_keys([21, 11, 33, 23, 43, 46])"
      ]
     },
     "execution_count": 175,
     "metadata": {},
     "output_type": "execute_result"
    }
   ],
   "source": [
    "#keys\n",
    "a={21: 14, 11: 34, 33: 41, 23: 32, 43: 20, 46: 26}\n",
    "a.keys()"
   ]
  },
  {
   "cell_type": "code",
   "execution_count": 176,
   "id": "085a7e58",
   "metadata": {},
   "outputs": [
    {
     "data": {
      "text/plain": [
       "dict_values([14, 34, 41, 32, 20, 26])"
      ]
     },
     "execution_count": 176,
     "metadata": {},
     "output_type": "execute_result"
    }
   ],
   "source": [
    "#values\n",
    "a={21: 14, 11: 34, 33: 41, 23: 32, 43: 20, 46: 26}\n",
    "a.values()"
   ]
  },
  {
   "cell_type": "code",
   "execution_count": 179,
   "id": "a9fde42a",
   "metadata": {},
   "outputs": [
    {
     "name": "stdout",
     "output_type": "stream",
     "text": [
      "{21: 14, 11: 34, 33: 41, 23: 32, 43: 20, 46: 26}\n"
     ]
    }
   ],
   "source": [
    "#copy\n",
    "a={21: 14, 11: 34, 33: 41, 23: 32, 43: 20, 46: 26}\n",
    "b=a.copy()\n",
    "print(b)"
   ]
  },
  {
   "cell_type": "code",
   "execution_count": 180,
   "id": "291e9068",
   "metadata": {},
   "outputs": [
    {
     "name": "stdout",
     "output_type": "stream",
     "text": [
      "{21: 14, 11: 34, 33: 41, 23: 32, 43: 20}\n"
     ]
    }
   ],
   "source": [
    "#popitem\n",
    "a={21: 14, 11: 34, 33: 41, 23: 32, 43: 20, 46: 26}\n",
    "a.popitem()\n",
    "print(a)"
   ]
  },
  {
   "cell_type": "code",
   "execution_count": 182,
   "id": "1a2106cc",
   "metadata": {},
   "outputs": [
    {
     "name": "stdout",
     "output_type": "stream",
     "text": [
      "46\n",
      "11\n"
     ]
    }
   ],
   "source": [
    "#max,min\n",
    "a={21: 14, 11: 34, 33: 41, 23: 32, 43: 20, 46: 26}\n",
    "print(max(a))         #the highest key\n",
    "print(min(a))         #the lowest key"
   ]
  },
  {
   "cell_type": "code",
   "execution_count": 185,
   "id": "a453c640",
   "metadata": {},
   "outputs": [
    {
     "name": "stdout",
     "output_type": "stream",
     "text": [
      "{1: 7, 2: 7, 3: 7, 4: 7, 5: 7}\n",
      "{1: None, 2: None, 3: None, 4: None, 5: None}\n"
     ]
    }
   ],
   "source": [
    "#fromkeys\n",
    "a=[1,2,3,4,5]\n",
    "b=7\n",
    "d=dict.fromkeys(a,b)\n",
    "print(d)\n",
    "e=dict.fromkeys(a)\n",
    "print(e)"
   ]
  },
  {
   "cell_type": "code",
   "execution_count": 187,
   "id": "2d6db5e4",
   "metadata": {},
   "outputs": [
    {
     "name": "stdout",
     "output_type": "stream",
     "text": [
      "{21: 14, 11: 34, 33: 41, 23: 32, 43: 20, 46: 26, 25: 6000, 1000: None}\n"
     ]
    }
   ],
   "source": [
    "#setdefault\n",
    "a={21: 14, 11: 34, 33: 41, 23: 32, 43: 20, 46: 26}\n",
    "c=a.setdefault(25,6000)\n",
    "d=a.setdefault(1000)\n",
    "print(a)"
   ]
  },
  {
   "cell_type": "code",
   "execution_count": 189,
   "id": "a820d3f2",
   "metadata": {},
   "outputs": [
    {
     "ename": "TypeError",
     "evalue": "'builtin_function_or_method' object is not subscriptable",
     "output_type": "error",
     "traceback": [
      "\u001b[1;31m---------------------------------------------------------------------------\u001b[0m",
      "\u001b[1;31mTypeError\u001b[0m                                 Traceback (most recent call last)",
      "\u001b[1;32m<ipython-input-189-7c675eb7fdba>\u001b[0m in \u001b[0;36m<module>\u001b[1;34m\u001b[0m\n\u001b[0;32m      1\u001b[0m \u001b[0mLst\u001b[0m\u001b[1;33m=\u001b[0m\u001b[1;33m[\u001b[0m\u001b[1;36m1\u001b[0m\u001b[1;33m,\u001b[0m\u001b[1;36m2\u001b[0m\u001b[1;33m,\u001b[0m\u001b[1;36m3\u001b[0m\u001b[1;33m,\u001b[0m\u001b[1;36m4\u001b[0m\u001b[1;33m,\u001b[0m\u001b[1;36m5\u001b[0m\u001b[1;33m,\u001b[0m\u001b[1;36m6\u001b[0m\u001b[1;33m,\u001b[0m\u001b[1;36m7\u001b[0m\u001b[1;33m,\u001b[0m\u001b[1;36m8\u001b[0m\u001b[1;33m,\u001b[0m\u001b[1;36m9\u001b[0m\u001b[1;33m]\u001b[0m\u001b[1;33m\u001b[0m\u001b[1;33m\u001b[0m\u001b[0m\n\u001b[0;32m      2\u001b[0m \u001b[0mLst\u001b[0m\u001b[1;33m[\u001b[0m\u001b[1;33m:\u001b[0m\u001b[1;36m2\u001b[0m\u001b[1;33m:\u001b[0m\u001b[1;33m]\u001b[0m\u001b[1;33m=\u001b[0m\u001b[1;36m10\u001b[0m\u001b[1;33m,\u001b[0m\u001b[1;36m20\u001b[0m\u001b[1;33m\u001b[0m\u001b[1;33m\u001b[0m\u001b[0m\n\u001b[1;32m----> 3\u001b[1;33m \u001b[0mprint\u001b[0m\u001b[1;33m[\u001b[0m\u001b[0mLst\u001b[0m\u001b[1;33m]\u001b[0m\u001b[1;33m\u001b[0m\u001b[1;33m\u001b[0m\u001b[0m\n\u001b[0m",
      "\u001b[1;31mTypeError\u001b[0m: 'builtin_function_or_method' object is not subscriptable"
     ]
    }
   ],
   "source": [
    "Lst=[1,2,3,4,5,6,7,8,9]\n",
    "Lst[:2:]=10,20\n",
    "print[Lst]\n"
   ]
  },
  {
   "cell_type": "code",
   "execution_count": 190,
   "id": "8dd66f07",
   "metadata": {},
   "outputs": [
    {
     "name": "stdout",
     "output_type": "stream",
     "text": [
      "(1, 2, 3, 4, 5, 6, 7) (2,) 3 4 (5, 6)\n"
     ]
    }
   ],
   "source": [
    "a=1,2,3,4,5,6,7\n",
    "b=a[1],\n",
    "c,d=a[2],a[3]\n",
    "e=a[4],a[5]\n",
    "print(a,b,c,d,e)"
   ]
  },
  {
   "cell_type": "code",
   "execution_count": 194,
   "id": "6e5610cb",
   "metadata": {},
   "outputs": [
    {
     "name": "stdout",
     "output_type": "stream",
     "text": [
      "30\n",
      "{(1, 2, 4): 8, (4, 2, 1): 10, (1, 2): 12}\n"
     ]
    }
   ],
   "source": [
    "my_dict={}\n",
    "my_dict[(1,2,4)]=8\n",
    "my_dict[(4,2,1)]=10\n",
    "my_dict[(1,2)]=12\n",
    "sum=0\n",
    "for k in my_dict:sum+=my_dict[k]\n",
    "print(sum)\n",
    "print(my_dict)"
   ]
  },
  {
   "cell_type": "code",
   "execution_count": 195,
   "id": "5acc8f6f",
   "metadata": {},
   "outputs": [
    {
     "name": "stdout",
     "output_type": "stream",
     "text": [
      "[1]\n",
      "[1, 3]\n",
      "[1, 3, 5]\n",
      "[1, 3, 5, 7]\n",
      "[1, 3, 5, 7, 9]\n"
     ]
    }
   ],
   "source": [
    "myList = [1,2,3,4,5,6,7,8,9,10]\n",
    "newList=[]\n",
    "for i in range(0,len(myList)):\n",
    "    if i%2 == 0: \n",
    "        newList.append(myList[i])  \n",
    "        print(newList)"
   ]
  },
  {
   "cell_type": "code",
   "execution_count": null,
   "id": "6450431d",
   "metadata": {},
   "outputs": [],
   "source": []
  }
 ],
 "metadata": {
  "kernelspec": {
   "display_name": "Python 3",
   "language": "python",
   "name": "python3"
  },
  "language_info": {
   "codemirror_mode": {
    "name": "ipython",
    "version": 3
   },
   "file_extension": ".py",
   "mimetype": "text/x-python",
   "name": "python",
   "nbconvert_exporter": "python",
   "pygments_lexer": "ipython3",
   "version": "3.8.8"
  }
 },
 "nbformat": 4,
 "nbformat_minor": 5
}
