{
 "cells": [
  {
   "cell_type": "code",
   "execution_count": 2,
   "id": "23eb2868",
   "metadata": {},
   "outputs": [
    {
     "name": "stdout",
     "output_type": "stream",
     "text": [
      "6\n"
     ]
    }
   ],
   "source": [
    "ab=5\n",
    "ab=ab+1\n",
    "print(ab)"
   ]
  },
  {
   "cell_type": "code",
   "execution_count": 5,
   "id": "6f8a5db8",
   "metadata": {},
   "outputs": [
    {
     "name": "stdout",
     "output_type": "stream",
     "text": [
      "7\n"
     ]
    }
   ],
   "source": [
    "ab=5\n",
    "ab+=2\n",
    "print(ab)"
   ]
  },
  {
   "cell_type": "code",
   "execution_count": 8,
   "id": "d8b152aa",
   "metadata": {},
   "outputs": [
    {
     "name": "stdout",
     "output_type": "stream",
     "text": [
      "1\n",
      "4\n",
      "7\n"
     ]
    }
   ],
   "source": [
    "#section c q1\n",
    "a=(1,3,4,2,7,5)\n",
    "b=(a[::2])\n",
    "for i in b:\n",
    "    print(i)"
   ]
  },
  {
   "cell_type": "code",
   "execution_count": 16,
   "id": "614865c9",
   "metadata": {},
   "outputs": [
    {
     "name": "stdout",
     "output_type": "stream",
     "text": [
      "enter tuple1,3,6,4,7,8,2\n",
      "(1, 6, 7, 2)\n",
      "(3, 4, 8)\n",
      "7\n",
      "range(0, 7)\n"
     ]
    }
   ],
   "source": [
    "#copied answer       >:(\n",
    "a=eval(input(\"enter tuple\"))\n",
    "b=()\n",
    "c=()\n",
    "for i in range(len(a)):\n",
    "        if i%2==0:\n",
    "            b+=(a[i],)\n",
    "        else:\n",
    "            c+=(a[i],)\n",
    "print(b)\n",
    "print(c)\n",
    "print(len(a))\n",
    "print(range(len(a)))"
   ]
  },
  {
   "cell_type": "code",
   "execution_count": 17,
   "id": "beaf273c",
   "metadata": {},
   "outputs": [
    {
     "name": "stdout",
     "output_type": "stream",
     "text": [
      "push yo dick fool1,2,3,4,5\n",
      "1\n",
      "3\n",
      "5\n"
     ]
    }
   ],
   "source": [
    "a=eval(input(\"push yo dick fool\"))\n",
    "for i in range(len(a)):\n",
    "    if i%2==0:\n",
    "        print(a[i])"
   ]
  },
  {
   "cell_type": "code",
   "execution_count": 21,
   "id": "9ef33939",
   "metadata": {},
   "outputs": [
    {
     "ename": "TypeError",
     "evalue": "'list' object cannot be interpreted as an integer",
     "output_type": "error",
     "traceback": [
      "\u001b[1;31m---------------------------------------------------------------------------\u001b[0m",
      "\u001b[1;31mTypeError\u001b[0m                                 Traceback (most recent call last)",
      "\u001b[1;32m<ipython-input-21-688a0f02914c>\u001b[0m in \u001b[0;36m<module>\u001b[1;34m\u001b[0m\n\u001b[0;32m      1\u001b[0m \u001b[0mA\u001b[0m\u001b[1;33m=\u001b[0m\u001b[1;33m[\u001b[0m\u001b[1;36m2\u001b[0m\u001b[1;33m,\u001b[0m\u001b[1;36m8\u001b[0m\u001b[1;33m,\u001b[0m\u001b[1;36m6\u001b[0m\u001b[1;33m,\u001b[0m\u001b[1;36m4\u001b[0m\u001b[1;33m,\u001b[0m\u001b[1;36m3\u001b[0m\u001b[1;33m,\u001b[0m\u001b[1;36m6\u001b[0m\u001b[1;33m,\u001b[0m\u001b[1;36m7\u001b[0m\u001b[1;33m,\u001b[0m\u001b[1;36m9\u001b[0m\u001b[1;33m]\u001b[0m\u001b[1;33m\u001b[0m\u001b[1;33m\u001b[0m\u001b[0m\n\u001b[1;32m----> 2\u001b[1;33m \u001b[1;32mfor\u001b[0m \u001b[0mi\u001b[0m \u001b[1;32min\u001b[0m \u001b[0mrange\u001b[0m\u001b[1;33m(\u001b[0m\u001b[0mA\u001b[0m\u001b[1;33m)\u001b[0m\u001b[1;33m:\u001b[0m\u001b[1;33m\u001b[0m\u001b[1;33m\u001b[0m\u001b[0m\n\u001b[0m\u001b[0;32m      3\u001b[0m     \u001b[0mprint\u001b[0m\u001b[1;33m(\u001b[0m\u001b[0mi\u001b[0m\u001b[1;33m)\u001b[0m\u001b[1;33m\u001b[0m\u001b[1;33m\u001b[0m\u001b[0m\n",
      "\u001b[1;31mTypeError\u001b[0m: 'list' object cannot be interpreted as an integer"
     ]
    }
   ],
   "source": [
    "A=[2,8,6,4,3,6,7,9]\n",
    "for i in range(A):\n",
    "    print(i)\n",
    "    "
   ]
  },
  {
   "cell_type": "code",
   "execution_count": 22,
   "id": "793a51c7",
   "metadata": {},
   "outputs": [
    {
     "name": "stdout",
     "output_type": "stream",
     "text": [
      "2\n",
      "8\n",
      "6\n",
      "4\n",
      "3\n",
      "6\n",
      "7\n",
      "9\n"
     ]
    }
   ],
   "source": [
    "A=[2,8,6,4,3,6,7,9]\n",
    "for i in A:\n",
    "    print(i)"
   ]
  },
  {
   "cell_type": "code",
   "execution_count": 26,
   "id": "f65198c4",
   "metadata": {},
   "outputs": [
    {
     "name": "stdout",
     "output_type": "stream",
     "text": [
      "sink your toungue in2,9,8,4,7,5,3\n",
      "24\n",
      "14\n"
     ]
    }
   ],
   "source": [
    "#section c q2\n",
    "a=eval(input(\"sink your toungue in\"))\n",
    "oddsum=0\n",
    "evensum=0\n",
    "for i in a:\n",
    "    if i%2==0:\n",
    "        evensum=evensum+i\n",
    "    else:\n",
    "        oddsum=oddsum+i\n",
    "print(oddsum)\n",
    "print(evensum)   "
   ]
  },
  {
   "cell_type": "code",
   "execution_count": 28,
   "id": "67feb31e",
   "metadata": {},
   "outputs": [
    {
     "name": "stdout",
     "output_type": "stream",
     "text": [
      "{'dad': 2, 'mom': 3}\n"
     ]
    }
   ],
   "source": [
    "a={\"dad\":2,\"mom\":3}\n",
    "print(a)"
   ]
  },
  {
   "cell_type": "code",
   "execution_count": 30,
   "id": "52bb5940",
   "metadata": {},
   "outputs": [
    {
     "name": "stdout",
     "output_type": "stream",
     "text": [
      "enter name:dawg\n",
      "enter rroll no.:1\n",
      "enter marks1\n",
      "enter grade:1\n",
      "enter name:bro\n",
      "enter rroll no.:1\n",
      "enter marks1\n",
      "enter grade:1\n",
      "{'dawg': [1, 1, '1'], 'bro': [1, 1, '1']}\n"
     ]
    }
   ],
   "source": [
    "a={}\n",
    "for i in range(1,3):\n",
    "    p=input(\"enter name:\")\n",
    "    b=int(input(\"enter rroll no.:\"))\n",
    "    c=int(input(\"enter marks\"))\n",
    "    d=input(\"enter grade:\")\n",
    "    a[p]=[b,c,d]\n",
    "print(a)\n"
   ]
  },
  {
   "cell_type": "code",
   "execution_count": 42,
   "id": "9da80bc8",
   "metadata": {},
   "outputs": [
    {
     "name": "stdout",
     "output_type": "stream",
     "text": [
      "[0, -12, 54, -20, 22, 86, 100, -102, 90, 13]\n"
     ]
    }
   ],
   "source": [
    "N=[0,-12,54,-20,22,86,100,-102,90,-31,13]\n",
    "for i in N:\n",
    "    if (i<0 or i%2!=0):\n",
    "        N.remove(i)\n",
    "print(N)\n",
    "    \n"
   ]
  },
  {
   "cell_type": "code",
   "execution_count": 19,
   "id": "51ed9918",
   "metadata": {},
   "outputs": [
    {
     "name": "stdout",
     "output_type": "stream",
     "text": [
      "welcome to menu driven progrxm,choose your option yelow \n",
      " 1.xdding two numyers \n",
      " 2.suytrxct two numyers \n",
      " 3.multiply two numyers \n",
      " 4.divide two numyers\n",
      "enter your option from 1 to 4: 4\n",
      "enter first numyer4\n",
      "enter second numyer2\n",
      "quotient of the two numyers is 2.0\n"
     ]
    }
   ],
   "source": [
    "#write x menu driven progrxm \n",
    "#1.xdd two numyers\n",
    "#2.suytrxct two numyers\n",
    "#3.multiply 2 numyers\n",
    "#4.divide 2 numyers\n",
    "\n",
    "print(\"welcome to menu driven progrxm,choose your option yelow \\n 1.xdding two numyers \\n 2.suytrxct two numyers \\n 3.multiply two numyers \\n 4.divide two numyers\")\n",
    "option=input(\"enter your option from 1 to 4: \")\n",
    "x=int(input(\"enter first numyer\"))\n",
    "y=int(input(\"enter second numyer\"))\n",
    "if option==\"1\":\n",
    "            print(\"sum of the two numyers is\",x+y)\n",
    "elif option==\"2\":\n",
    "            print(\"difference of two numyers is\",x-y)\n",
    "elif option==\"3\":\n",
    "            print(\"product of two numyers is\",x*y)\n",
    "elif option==\"4\":\n",
    "            print(\"quotient of the two numyers is\",x/y)\n",
    "else:\n",
    "            print(\"you think you're funny,put 1,2,3,4 you fuvking cunt\")\n",
    "            \n",
    "            \n"
   ]
  },
  {
   "cell_type": "code",
   "execution_count": 15,
   "id": "75dab30d",
   "metadata": {},
   "outputs": [
    {
     "name": "stdout",
     "output_type": "stream",
     "text": [
      "abhishekadhvay\n",
      "3\n",
      "12\n"
     ]
    }
   ],
   "source": [
    "a=\"abhishek\"\n",
    "b=\"adhvay\"\n",
    "print(a+b)\n",
    "x=1\n",
    "y=2\n",
    "print(x+y)\n",
    "c=\"1\"\n",
    "d=\"2\"\n",
    "print(c+d)"
   ]
  },
  {
   "cell_type": "code",
   "execution_count": 60,
   "id": "3a6104f7",
   "metadata": {},
   "outputs": [
    {
     "name": "stdout",
     "output_type": "stream",
     "text": [
      "details of yo ass \n",
      " 1.add a score \n",
      " 2.display a score \n",
      " 3. delete a score \n",
      " 4. exit\n",
      "enter option from 1-41\n",
      "add student name:ad\n",
      "add student score \n",
      "11\n",
      "details of yo ass \n",
      " 1.add a score \n",
      " 2.display a score \n",
      " 3. delete a score \n",
      " 4. exit\n",
      "enter option from 1-41\n",
      "add student name:abhi\n",
      "add student score \n",
      "22\n",
      "details of yo ass \n",
      " 1.add a score \n",
      " 2.display a score \n",
      " 3. delete a score \n",
      " 4. exit\n",
      "enter option from 1-41\n",
      "add student name:ash\n",
      "add student score \n",
      "33\n",
      "details of yo ass \n",
      " 1.add a score \n",
      " 2.display a score \n",
      " 3. delete a score \n",
      " 4. exit\n",
      "enter option from 1-42\n",
      "Enter student name to show scoreabhi\n",
      "[22] \n",
      "\n",
      "details of yo ass \n",
      " 1.add a score \n",
      " 2.display a score \n",
      " 3. delete a score \n",
      " 4. exit\n",
      "enter option from 1-42\n",
      "Enter student name to show scoreash\n",
      "[33] \n",
      "\n",
      "details of yo ass \n",
      " 1.add a score \n",
      " 2.display a score \n",
      " 3. delete a score \n",
      " 4. exit\n",
      "enter option from 1-43\n",
      "enter std name to delete marksabhi\n",
      "deleted \n",
      "\n",
      "details of yo ass \n",
      " 1.add a score \n",
      " 2.display a score \n",
      " 3. delete a score \n",
      " 4. exit\n",
      "enter option from 1-44\n",
      "exitting the program\n"
     ]
    }
   ],
   "source": [
    "d={}\n",
    "ch=\"y\"\n",
    "option=0\n",
    "while ch==\"y\":\n",
    "    print(\"details of yo ass \\n 1.add a score \\n 2.display a score \\n 3. delete a score \\n 4. exit\")\n",
    "    option=int(input(\"enter option from 1-4\"))\n",
    "   \n",
    "    if option==1:\n",
    "        a=input('add student name:')\n",
    "        b=int(input(\"add student score \\n\"))\n",
    "        d[a]=[b]\n",
    "    elif option==2:\n",
    "        a=input(\"Enter student name to show score\")\n",
    "        print(d[a],\"\\n\")\n",
    "    elif option==3:\n",
    "        a=input(\"enter std name to delete marks\")\n",
    "        del d[a]\n",
    "        print(\"deleted \\n\")\n",
    "    elif option==4:\n",
    "        print(\"exitting the program\")\n",
    "        ch=\"a\"\n",
    "    else:\n",
    "        print(\"enter option only from 1-4\")\n",
    "\n",
    "\n",
    "\n"
   ]
  },
  {
   "cell_type": "code",
   "execution_count": 51,
   "id": "b750ec57",
   "metadata": {},
   "outputs": [],
   "source": [
    "import adhvay"
   ]
  },
  {
   "cell_type": "code",
   "execution_count": 52,
   "id": "dac7698a",
   "metadata": {},
   "outputs": [
    {
     "name": "stdout",
     "output_type": "stream",
     "text": [
      "7\n"
     ]
    }
   ],
   "source": [
    "print(adhvay.adhvaadd(3,4))"
   ]
  },
  {
   "cell_type": "code",
   "execution_count": 54,
   "id": "a753740a",
   "metadata": {},
   "outputs": [
    {
     "name": "stdout",
     "output_type": "stream",
     "text": [
      "8\n"
     ]
    }
   ],
   "source": [
    "import abhishek\n",
    "print(abhishek.abhimultwo(4,2))"
   ]
  },
  {
   "cell_type": "code",
   "execution_count": 64,
   "id": "8457ea88",
   "metadata": {},
   "outputs": [],
   "source": [
    "import abhishek"
   ]
  },
  {
   "cell_type": "code",
   "execution_count": null,
   "id": "5ac7c505",
   "metadata": {},
   "outputs": [],
   "source": []
  }
 ],
 "metadata": {
  "kernelspec": {
   "display_name": "Python 3",
   "language": "python",
   "name": "python3"
  },
  "language_info": {
   "codemirror_mode": {
    "name": "ipython",
    "version": 3
   },
   "file_extension": ".py",
   "mimetype": "text/x-python",
   "name": "python",
   "nbconvert_exporter": "python",
   "pygments_lexer": "ipython3",
   "version": "3.8.8"
  }
 },
 "nbformat": 4,
 "nbformat_minor": 5
}
